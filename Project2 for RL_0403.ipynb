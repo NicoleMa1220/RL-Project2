{
 "cells": [
  {
   "cell_type": "code",
   "execution_count": 2,
   "id": "248d83a6",
   "metadata": {},
   "outputs": [],
   "source": [
    "import numpy as np\n",
    "import matplotlib.pyplot as plt\n",
    "import pandas as pd\n",
    "\n",
    "# Utils to be used in TDControl\n",
    "class Utils:\n",
    "    def __init__(self, days, spread):\n",
    "        self.days = days\n",
    "        self.spread = spread\n",
    "        self.data = self.constructData()\n",
    "        \n",
    "    # Simulate the up and down of stock by random (50% up by spread amound and 50% down by spread amount)\n",
    "    def constructData(self):\n",
    "        data = [100]\n",
    "        for i in range(self.days):\n",
    "            isUp = np.random.rand() >= 0.5\n",
    "            if isUp:\n",
    "                data.append(data[-1] * (1 + self.spread))\n",
    "            else:\n",
    "                data.append(data[-1] / (1 + self.spread))\n",
    "        return data\n",
    "\n",
    "    # Construct the empty Q-value table\n",
    "    def constructQValue(self):\n",
    "        return np.zeros((self.days+1, 3))\n",
    "\n",
    "    # Compute the rewards after every action\n",
    "    def reward(self, days, action):\n",
    "        curPrice = self.data[days]\n",
    "        nextPrice = self.data[days+1]\n",
    "        profit = (nextPrice - curPrice) + action * (nextPrice - curPrice) #What is the general formula\n",
    "        re = -1 * abs(profit) + 10 \n",
    "        #Our aim is to fully hedge the change of stock prices\n",
    "        #Hence, when there is zero profit, the model should get the max reward \n",
    "        return re\n",
    "\n",
    "\n",
    "# Off-Policy TD Control Algorithm class\n",
    "class TDControl:\n",
    "    def __init__(self, days, alpha, gamma, epsilon):\n",
    "        self.actionList = [0, -0.5, -1] #three possible action, short 0, 0.5, 1\n",
    "        \n",
    "        self.totalDays = days\n",
    "        self.alpha = alpha\n",
    "        self.gamma = gamma             # generally 0.9\n",
    "        self.epsilon = epsilon\n",
    "        self.totalRe = []\n",
    "        self.bestActpercent = []\n",
    "        \n",
    "        self.reset()\n",
    "        \n",
    "        utils = Utils(self.totalDays, 0.1)\n",
    "        self.QValue = utils.constructQValue()\n",
    "    \n",
    "    def reset(self):\n",
    "        self.utils = Utils(self.totalDays, 0.1)\n",
    "        self.data = self.utils.constructData()\n",
    "        self.actions = []\n",
    "    \n",
    "    # To find the best strategy with highest Q-value\n",
    "    def strategy(self, days):\n",
    "        if days < 0 or days >= self.totalDays:\n",
    "            return\n",
    "        values = self.QValue[days+1]\n",
    "        \n",
    "        stra = np.where(values == np.max(values))[0][0]\n",
    "        return stra\n",
    "    \n",
    "    # to update the q-value of \"days\"\n",
    "    def update(self, days):\n",
    "        if days < 0 or days >= self.totalDays:\n",
    "            return\n",
    "        # whether to apply greed or not\n",
    "        isGreedy = np.random.rand()\n",
    "        if isGreedy < self.epsilon:\n",
    "            stra = np.random.choice([0, 1, 2], 1)[0]\n",
    "        else:\n",
    "            stra = self.strategy(days)\n",
    "        act = self.actionList[stra]\n",
    "        self.actions.append(act)\n",
    "        \n",
    "        reward = self.utils.reward(days, act)\n",
    "        values = self.QValue[days]\n",
    "        maxV = values[stra]\n",
    "        values[stra] = values[stra] + self.alpha * (reward + self.gamma * maxV - values[stra])\n",
    "        return reward\n",
    "    \n",
    "    #to simulate the whole strategy process\n",
    "    def step(self):\n",
    "        sumRe = 0\n",
    "        for i in range(self.totalDays):\n",
    "            sumRe += self.update(i)\n",
    "        self.bestActpercent.append(self.actions.count(-1) / len(self.actions) * 100)\n",
    "        return sumRe\n",
    "    \n",
    "    # train to get the table of Q-value, return the reward to draw a graph\n",
    "    def train(self, times):\n",
    "        for i in range(times):\n",
    "            self.reset()\n",
    "            sumRe = self.step()\n",
    "            self.totalRe.append(sumRe)\n",
    "        return self.totalRe\n",
    "        "
   ]
  },
  {
   "cell_type": "markdown",
   "id": "821be91d",
   "metadata": {},
   "source": [
    "# Show Q-Value Table"
   ]
  },
  {
   "cell_type": "code",
   "execution_count": 3,
   "id": "c96061d0",
   "metadata": {},
   "outputs": [
    {
     "name": "stdout",
     "output_type": "stream",
     "text": [
      "Q-Value Table:\n"
     ]
    },
    {
     "data": {
      "text/html": [
       "<div>\n",
       "<style scoped>\n",
       "    .dataframe tbody tr th:only-of-type {\n",
       "        vertical-align: middle;\n",
       "    }\n",
       "\n",
       "    .dataframe tbody tr th {\n",
       "        vertical-align: top;\n",
       "    }\n",
       "\n",
       "    .dataframe thead th {\n",
       "        text-align: right;\n",
       "    }\n",
       "</style>\n",
       "<table border=\"1\" class=\"dataframe\">\n",
       "  <thead>\n",
       "    <tr style=\"text-align: right;\">\n",
       "      <th></th>\n",
       "      <th>short 0</th>\n",
       "      <th>short 0.5</th>\n",
       "      <th>short 1</th>\n",
       "    </tr>\n",
       "  </thead>\n",
       "  <tbody>\n",
       "    <tr>\n",
       "      <th>0</th>\n",
       "      <td>0.797858</td>\n",
       "      <td>9.128900</td>\n",
       "      <td>99.993472</td>\n",
       "    </tr>\n",
       "    <tr>\n",
       "      <th>1</th>\n",
       "      <td>0.680158</td>\n",
       "      <td>8.783569</td>\n",
       "      <td>99.993620</td>\n",
       "    </tr>\n",
       "    <tr>\n",
       "      <th>2</th>\n",
       "      <td>0.361332</td>\n",
       "      <td>9.197628</td>\n",
       "      <td>99.993684</td>\n",
       "    </tr>\n",
       "    <tr>\n",
       "      <th>3</th>\n",
       "      <td>0.588684</td>\n",
       "      <td>8.739928</td>\n",
       "      <td>99.993620</td>\n",
       "    </tr>\n",
       "    <tr>\n",
       "      <th>4</th>\n",
       "      <td>0.587224</td>\n",
       "      <td>8.658561</td>\n",
       "      <td>99.993601</td>\n",
       "    </tr>\n",
       "    <tr>\n",
       "      <th>5</th>\n",
       "      <td>0.217038</td>\n",
       "      <td>7.282262</td>\n",
       "      <td>99.993741</td>\n",
       "    </tr>\n",
       "    <tr>\n",
       "      <th>6</th>\n",
       "      <td>0.343040</td>\n",
       "      <td>8.191761</td>\n",
       "      <td>99.993633</td>\n",
       "    </tr>\n",
       "    <tr>\n",
       "      <th>7</th>\n",
       "      <td>-0.002964</td>\n",
       "      <td>7.548138</td>\n",
       "      <td>99.993684</td>\n",
       "    </tr>\n",
       "    <tr>\n",
       "      <th>8</th>\n",
       "      <td>0.476268</td>\n",
       "      <td>7.778289</td>\n",
       "      <td>99.993026</td>\n",
       "    </tr>\n",
       "    <tr>\n",
       "      <th>9</th>\n",
       "      <td>1.237741</td>\n",
       "      <td>7.418909</td>\n",
       "      <td>14.621771</td>\n",
       "    </tr>\n",
       "    <tr>\n",
       "      <th>10</th>\n",
       "      <td>0.000000</td>\n",
       "      <td>0.000000</td>\n",
       "      <td>0.000000</td>\n",
       "    </tr>\n",
       "  </tbody>\n",
       "</table>\n",
       "</div>"
      ],
      "text/plain": [
       "     short 0  short 0.5    short 1\n",
       "0   0.797858   9.128900  99.993472\n",
       "1   0.680158   8.783569  99.993620\n",
       "2   0.361332   9.197628  99.993684\n",
       "3   0.588684   8.739928  99.993620\n",
       "4   0.587224   8.658561  99.993601\n",
       "5   0.217038   7.282262  99.993741\n",
       "6   0.343040   8.191761  99.993633\n",
       "7  -0.002964   7.548138  99.993684\n",
       "8   0.476268   7.778289  99.993026\n",
       "9   1.237741   7.418909  14.621771\n",
       "10  0.000000   0.000000   0.000000"
      ]
     },
     "execution_count": 3,
     "metadata": {},
     "output_type": "execute_result"
    }
   ],
   "source": [
    "# Set Hyperpameter Parameters below\n",
    "## -----------------------------------\n",
    "times = 10000\n",
    "days = 10\n",
    "alpha = 0.01\n",
    "gamma = 0.9\n",
    "epsilon = 0.05\n",
    "## -----------------------------------\n",
    "TDC = TDControl(days, alpha, gamma, epsilon)\n",
    "totalRe = TDC.train(times)\n",
    "QValue = pd.DataFrame(TDC.QValue, columns=['short 0', 'short 0.5', 'short 1'])\n",
    "print(\"Q-Value Table:\")\n",
    "QValue"
   ]
  },
  {
   "cell_type": "markdown",
   "id": "1436bdfa",
   "metadata": {},
   "source": [
    "# Draw rewards of each round"
   ]
  },
  {
   "cell_type": "code",
   "execution_count": 4,
   "id": "9633715e",
   "metadata": {},
   "outputs": [
    {
     "data": {
      "image/png": "[encoded data removed]",
      "text/plain": [
       "<Figure size 432x288 with 1 Axes>"
      ]
     },
     "metadata": {
      "needs_background": "light"
     },
     "output_type": "display_data"
    }
   ],
   "source": [
    "x1 = []\n",
    "y1 = []\n",
    "\n",
    "Print_in_Every = 100 # to print in every 100 data to make the graph more readable\n",
    "for i, re in enumerate(totalRe):\n",
    "    if i % Print_in_Every == 0:\n",
    "        y1.append(re)\n",
    "        x1.append(i)\n",
    "\n",
    "plt.plot(x1, y1)\n",
    "plt.ylim(0, 150)\n",
    "plt.xlabel(\"Episodes\")\n",
    "plt.ylabel(\"rewards of a certain round\")\n",
    "plt.show()"
   ]
  },
  {
   "cell_type": "markdown",
   "id": "8fe2a1c6",
   "metadata": {},
   "source": [
    "# Draw best action percent of each round"
   ]
  },
  {
   "cell_type": "code",
   "execution_count": 5,
   "id": "c9b6232d",
   "metadata": {},
   "outputs": [
    {
     "data": {
      "image/png": "[encoded data removed]",
      "text/plain": [
       "<Figure size 432x288 with 1 Axes>"
      ]
     },
     "metadata": {
      "needs_background": "light"
     },
     "output_type": "display_data"
    }
   ],
   "source": [
    "x2 = []\n",
    "y2 = []\n",
    "bestActPer = TDC.bestActpercent\n",
    "# print(bestActPer)\n",
    "#to print in every 100 data to make the graph more readable\n",
    "Print_in_Every = 100 \n",
    "for i, per in enumerate(bestActPer):\n",
    "    if i % Print_in_Every == 0:\n",
    "        y2.append(per)\n",
    "        x2.append(i)\n",
    "\n",
    "plt.plot(x2, y2)\n",
    "plt.ylim(0, 100)\n",
    "plt.xlabel(\"Episodes\")\n",
    "plt.ylabel(\"best actions percentage (%)\")\n",
    "plt.show()"
   ]
  },
  {
   "cell_type": "code",
   "execution_count": null,
   "id": "441045b9",
   "metadata": {},
   "outputs": [],
   "source": []
  }
 ],
 "metadata": {
  "kernelspec": {
   "display_name": "Python 3",
   "language": "python",
   "name": "python3"
  },
  "language_info": {
   "codemirror_mode": {
    "name": "ipython",
    "version": 3
   },
   "file_extension": ".py",
   "mimetype": "text/x-python",
   "name": "python",
   "nbconvert_exporter": "python",
   "pygments_lexer": "ipython3",
   "version": "3.8.8"
  }
 },
 "nbformat": 4,
 "nbformat_minor": 5
}
